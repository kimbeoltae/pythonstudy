{
 "cells": [
  {
   "cell_type": "code",
   "execution_count": 2,
   "metadata": {},
   "outputs": [
    {
     "name": "stdout",
     "output_type": "stream",
     "text": [
      "[ ] 1번째 손님 (소요시간 : 34분)\n",
      "[O] 2번째 손님 (소요시간 : 15분)\n",
      "[O] 3번째 손님 (소요시간 : 5분)\n",
      "[ ] 4번째 손님 (소요시간 : 48분)\n",
      "[ ] 5번째 손님 (소요시간 : 33분)\n",
      "[O] 6번째 손님 (소요시간 : 6분)\n",
      "[ ] 7번째 손님 (소요시간 : 20분)\n",
      "[ ] 8번째 손님 (소요시간 : 41분)\n",
      "[ ] 9번째 손님 (소요시간 : 22분)\n",
      "[ ] 10번째 손님 (소요시간 : 44분)\n",
      "[ ] 11번째 손님 (소요시간 : 23분)\n",
      "[ ] 12번째 손님 (소요시간 : 26분)\n",
      "[ ] 13번째 손님 (소요시간 : 23분)\n",
      "[ ] 14번째 손님 (소요시간 : 43분)\n",
      "[ ] 15번째 손님 (소요시간 : 46분)\n",
      "[ ] 16번째 손님 (소요시간 : 38분)\n",
      "[ ] 17번째 손님 (소요시간 : 43분)\n",
      "[ ] 18번째 손님 (소요시간 : 19분)\n",
      "[ ] 19번째 손님 (소요시간 : 49분)\n",
      "[ ] 20번째 손님 (소요시간 : 16분)\n",
      "[ ] 21번째 손님 (소요시간 : 28분)\n",
      "[ ] 22번째 손님 (소요시간 : 42분)\n",
      "[ ] 23번째 손님 (소요시간 : 24분)\n",
      "[ ] 24번째 손님 (소요시간 : 30분)\n",
      "[O] 25번째 손님 (소요시간 : 8분)\n",
      "[ ] 26번째 손님 (소요시간 : 17분)\n",
      "[ ] 27번째 손님 (소요시간 : 36분)\n",
      "[ ] 28번째 손님 (소요시간 : 37분)\n",
      "[ ] 29번째 손님 (소요시간 : 37분)\n",
      "[ ] 30번째 손님 (소요시간 : 46분)\n",
      "[ ] 31번째 손님 (소요시간 : 32분)\n",
      "[ ] 32번째 손님 (소요시간 : 22분)\n",
      "[ ] 33번째 손님 (소요시간 : 48분)\n",
      "[ ] 34번째 손님 (소요시간 : 41분)\n",
      "[ ] 35번째 손님 (소요시간 : 43분)\n",
      "[ ] 36번째 손님 (소요시간 : 48분)\n",
      "[ ] 37번째 손님 (소요시간 : 36분)\n",
      "[ ] 38번째 손님 (소요시간 : 23분)\n",
      "[O] 39번째 손님 (소요시간 : 12분)\n",
      "[O] 40번째 손님 (소요시간 : 8분)\n",
      "[ ] 41번째 손님 (소요시간 : 40분)\n",
      "[O] 42번째 손님 (소요시간 : 15분)\n",
      "[ ] 43번째 손님 (소요시간 : 44분)\n",
      "[ ] 44번째 손님 (소요시간 : 46분)\n",
      "[ ] 45번째 손님 (소요시간 : 39분)\n",
      "[ ] 46번째 손님 (소요시간 : 17분)\n",
      "[ ] 47번째 손님 (소요시간 : 48분)\n",
      "[ ] 48번째 손님 (소요시간 : 36분)\n",
      "[O] 49번째 손님 (소요시간 : 5분)\n",
      "[O] 50번째 손님 (소요시간 : 11분)\n",
      "총 탑승 승객 : 9 분\n"
     ]
    }
   ],
   "source": [
    "from random import *\n",
    "cnt = 0 #총 탑승 승객 수\n",
    "for i in range(1, 51): #1 ~ 50이라는 수 (승객)\n",
    "    time = randrange(5, 51) #5~50분소요시간\n",
    "    if 5 <= time <= 15: #5~15이내 손님(매칭 성공), 탑승 승객 수 증가 처리\n",
    "        print(\"[O] {0}번째 손님 (소요시간 : {1}분)\".format(i, time))\n",
    "        cnt += 1\n",
    "    else: #매칭 실패한 경우\n",
    "        print(\"[ ] {0}번째 손님 (소요시간 : {1}분)\".format(i, time))\n",
    "\n",
    "print(\"총 탑승 승객 : {0} 분\".format(cnt))"
   ]
  },
  {
   "cell_type": "code",
   "execution_count": 4,
   "metadata": {},
   "outputs": [
    {
     "name": "stdout",
     "output_type": "stream",
     "text": [
      "토르, 커피가 준비 되었습니다. 5번 남았어요.\n",
      "토르, 커피가 준비 되었습니다. 4번 남았어요.\n",
      "토르, 커피가 준비 되었습니다. 3번 남았어요.\n",
      "토르, 커피가 준비 되었습니다. 2번 남았어요.\n",
      "토르, 커피가 준비 되었습니다. 1번 남았어요.\n",
      "커피는 폐기처분 되었습니다.\n"
     ]
    }
   ],
   "source": [
    "#while\n",
    "customer = \"토르\"\n",
    "index = 5\n",
    "while index >= 1:\n",
    "    print(\"{0}, 커피가 준비 되었습니다. {1}번 남았어요.\".format(customer, index))\n",
    "    index -= 1\n",
    "    if index == 0:\n",
    "        print(\"커피는 폐기처분 되었습니다.\")"
   ]
  },
  {
   "cell_type": "code",
   "execution_count": 7,
   "metadata": {},
   "outputs": [
    {
     "name": "stdout",
     "output_type": "stream",
     "text": [
      "토르, 커피가 준비되었습니다.\n",
      "토르, 커피가 준비되었습니다.\n",
      "토르, 커피가 준비되었습니다.\n",
      "토르, 커피가 준비되었습니다.\n",
      "토르, 커피가 준비되었습니다.\n"
     ]
    }
   ],
   "source": [
    "customer = \"토르\"\n",
    "person = \"Unknown\"\n",
    "\n",
    "while person != customer :\n",
    "    print(\"{0}, 커피가 준비되었습니다.\".format(customer))\n",
    "    person = input(\"이름이 어떻게 되세요? \")"
   ]
  },
  {
   "cell_type": "code",
   "execution_count": 8,
   "metadata": {},
   "outputs": [
    {
     "name": "stdout",
     "output_type": "stream",
     "text": [
      "1, 책을 읽어봐\n",
      "3, 책을 읽어봐\n",
      "4, 책을 읽어봐\n",
      "6, 책을 읽어봐\n",
      "7, 책을 읽어봐\n",
      "8, 책을 읽어봐\n",
      "9, 책을 읽어봐\n",
      "10, 책을 읽어봐\n"
     ]
    }
   ],
   "source": [
    "#continue 와 break\n",
    "absent = [2, 5] #결석\n",
    "for student in range(1,11):\n",
    "    if student in absent:\n",
    "        continue\n",
    "    print(\"{0}, 책을 읽어봐\".format(student))"
   ]
  },
  {
   "cell_type": "code",
   "execution_count": 9,
   "metadata": {},
   "outputs": [
    {
     "name": "stdout",
     "output_type": "stream",
     "text": [
      "1, 책을 읽어봐\n",
      "3, 책을 읽어봐\n",
      "4, 책을 읽어봐\n",
      "6, 책을 읽어봐\n",
      "오늘 수업 여기까지. 7는 교무실로 따라와\n"
     ]
    }
   ],
   "source": [
    "#continue 와 break\n",
    "absent = [2, 5] #결석\n",
    "no_book = [7]\n",
    "for student in range(1,11):\n",
    "    if student in absent:\n",
    "        continue\n",
    "    elif student in no_book:\n",
    "        print(\"오늘 수업 여기까지. {0}는 교무실로 따라와\".format(student))\n",
    "        break\n",
    "    print(\"{0}, 책을 읽어봐\".format(student))\n"
   ]
  },
  {
   "cell_type": "code",
   "execution_count": 10,
   "metadata": {},
   "outputs": [
    {
     "name": "stdout",
     "output_type": "stream",
     "text": [
      "입금이 완료되었습니다. 잔액은 1000입니다.\n",
      "1000\n"
     ]
    }
   ],
   "source": [
    "def deposit(balance, money): #입금\n",
    "    print(\"입금이 완료되었습니다. 잔액은 {0}입니다.\".format(balance + money))\n",
    "    return balance + money\n",
    "\n",
    "balance = 0\n",
    "balance = deposit(balance, 1000)\n",
    "print(balance)"
   ]
  },
  {
   "cell_type": "code",
   "execution_count": 12,
   "metadata": {},
   "outputs": [
    {
     "name": "stdout",
     "output_type": "stream",
     "text": [
      "입금이 완료되었습니다. 잔액은 1000입니다.\n",
      "출금이 완료되었습니다. 잔액은 500원 입니다.\n"
     ]
    }
   ],
   "source": [
    "def withdraw(balance, money): #출금\n",
    "    if balance >= money: #잔액이 출금보다 많으면\n",
    "        print(\"출금이 완료되었습니다. 잔액은 {0}원 입니다.\".format(balance - money))\n",
    "        return balance - money\n",
    "    else:\n",
    "        print(\"출금이 완료되지 않았습니다. 잔액은 {0}원 입니다.\".format(balance))\n",
    "        return balance\n",
    "\n",
    "balance = 0\n",
    "balance = deposit(balance, 1000)\n",
    "# balance = withdraw(balance, 2000)\n",
    "balance = withdraw(balance, 500)"
   ]
  },
  {
   "cell_type": "code",
   "execution_count": 13,
   "metadata": {},
   "outputs": [
    {
     "name": "stdout",
     "output_type": "stream",
     "text": [
      "입금이 완료되었습니다. 잔액은 1000입니다.\n",
      "수수료는 100원이며, 잔액은 400원입니다.\n"
     ]
    }
   ],
   "source": [
    "def deposit(balance, money): #입금\n",
    "    print(\"입금이 완료되었습니다. 잔액은 {0}입니다.\".format(balance + money))\n",
    "    return balance + money\n",
    "\n",
    "def withdraw(balance, money): #출금\n",
    "    if balance >= money: #잔액이 출금보다 많으면\n",
    "        print(\"출금이 완료되었습니다. 잔액은 {0}원 입니다.\".format(balance - money))\n",
    "        return balance - money\n",
    "    else:\n",
    "        print(\"출금이 완료되지 않았습니다. 잔액은 {0}원 입니다.\".format(balance))\n",
    "        return balance\n",
    "\n",
    "def withdraw_night(balance, money): #저녁에 출금\n",
    "    commission = 100 #수수료 100원\n",
    "    return commission, balance - money - commission\n",
    "\n",
    "balance = 0\n",
    "balance = deposit(balance, 1000)\n",
    "commission, balance = withdraw_night(balance, 500)\n",
    "print(\"수수료는 {0}원이며, 잔액은 {1}원입니다.\".format(commission, balance))"
   ]
  },
  {
   "cell_type": "code",
   "execution_count": 14,
   "metadata": {},
   "outputs": [
    {
     "name": "stdout",
     "output_type": "stream",
     "text": [
      "이름 : 유재석\t나이 : 20\t주 사용 언어: 파이썬\n",
      "이름 : 김태호\t나이 : 25\t주 사용 언어: 자바\n"
     ]
    }
   ],
   "source": [
    "def profile(name, age, main_lang):\n",
    "    print(\"이름 : {0}\\t나이 : {1}\\t주 사용 언어: {2}\" \\\n",
    "          .format(name, age, main_lang))\n",
    "    \n",
    "profile(\"유재석\", 20, \"파이썬\")\n",
    "profile(\"김태호\", 25, \"자바\")"
   ]
  },
  {
   "cell_type": "code",
   "execution_count": 15,
   "metadata": {},
   "outputs": [
    {
     "name": "stdout",
     "output_type": "stream",
     "text": [
      "이름 : 유재석\t나이 : 17\t주 사용 언어: 파이썬\n",
      "이름 : 김태호\t나이 : 17\t주 사용 언어: 파이썬\n"
     ]
    }
   ],
   "source": [
    "def profile(name, age=17, main_lang=\"파이썬\"):\n",
    "    print(\"이름 : {0}\\t나이 : {1}\\t주 사용 언어: {2}\" \\\n",
    "          .format(name, age, main_lang))\n",
    "    \n",
    "profile(\"유재석\")\n",
    "profile(\"김태호\")"
   ]
  },
  {
   "cell_type": "code",
   "execution_count": 16,
   "metadata": {},
   "outputs": [
    {
     "name": "stdout",
     "output_type": "stream",
     "text": [
      "유재석 20 파이썬\n",
      "김태호 25 자바\n"
     ]
    }
   ],
   "source": [
    "def profile(name, age, main_lang):\n",
    "    print(name, age, main_lang)\n",
    "\n",
    "profile(name=\"유재석\", main_lang=\"파이썬\",age=20)\n",
    "profile(main_lang=\"자바\", age=25, name=\"김태호\")"
   ]
  },
  {
   "cell_type": "code",
   "execution_count": 18,
   "metadata": {},
   "outputs": [
    {
     "name": "stdout",
     "output_type": "stream",
     "text": [
      "이름 : 유재석\t나이 : 20\t Python Java C C++ C#\n",
      "이름 : 김태호\t나이 : 25\t Kotlin Swift   \n"
     ]
    }
   ],
   "source": [
    "def profile(name, age, lang1, lang2, lang3, lang4, lang5):\n",
    "    print(\"이름 : {0}\\t나이 : {1}\\t\".format(name, age), end=\" \")\n",
    "    print(lang1, lang2, lang3, lang4, lang5)\n",
    "\n",
    "profile(\"유재석\", 20, \"Python\", \"Java\", \"C\", \"C++\", \"C#\")\n",
    "profile(\"김태호\", 25, \"Kotlin\", \"Swift\", \"\", \"\", \"\")"
   ]
  },
  {
   "cell_type": "code",
   "execution_count": 19,
   "metadata": {},
   "outputs": [
    {
     "name": "stdout",
     "output_type": "stream",
     "text": [
      "이름 : 유재석\t나이 : 20\t Python Java C C++ C# JavaScript \n",
      "이름 : 김태호\t나이 : 25\t Kotlin Swift    \n"
     ]
    }
   ],
   "source": [
    "def profile(name, age, *language):\n",
    "    print(\"이름 : {0}\\t나이 : {1}\\t\".format(name, age), end=\" \")\n",
    "    for lang in language:\n",
    "        print(lang, end = \" \")\n",
    "    print()\n",
    "\n",
    "profile(\"유재석\", 20, \"Python\", \"Java\", \"C\", \"C++\", \"C#\", \"JavaScript\")\n",
    "profile(\"김태호\", 25, \"Kotlin\", \"Swift\")"
   ]
  },
  {
   "cell_type": "code",
   "execution_count": 20,
   "metadata": {},
   "outputs": [
    {
     "name": "stdout",
     "output_type": "stream",
     "text": [
      "전체 총 : 10\n"
     ]
    },
    {
     "ename": "UnboundLocalError",
     "evalue": "cannot access local variable 'gun' where it is not associated with a value",
     "output_type": "error",
     "traceback": [
      "\u001b[1;31m---------------------------------------------------------------------------\u001b[0m",
      "\u001b[1;31mUnboundLocalError\u001b[0m                         Traceback (most recent call last)",
      "\u001b[1;32mc:\\Users\\HyungChul\\Desktop\\PythonWorkspace\\jupyter notebook\\01.ipynb 셀 14\u001b[0m line \u001b[0;36m8\n\u001b[0;32m      <a href='vscode-notebook-cell:/c%3A/Users/HyungChul/Desktop/PythonWorkspace/jupyter%20notebook/01.ipynb#X16sZmlsZQ%3D%3D?line=4'>5</a>\u001b[0m     \u001b[39mprint\u001b[39m(\u001b[39m\"\u001b[39m\u001b[39m[함수 내] 남은 총 : \u001b[39m\u001b[39m{0}\u001b[39;00m\u001b[39m\"\u001b[39m\u001b[39m.\u001b[39mformat(gun))\n\u001b[0;32m      <a href='vscode-notebook-cell:/c%3A/Users/HyungChul/Desktop/PythonWorkspace/jupyter%20notebook/01.ipynb#X16sZmlsZQ%3D%3D?line=6'>7</a>\u001b[0m \u001b[39mprint\u001b[39m(\u001b[39m\"\u001b[39m\u001b[39m전체 총 : \u001b[39m\u001b[39m{0}\u001b[39;00m\u001b[39m\"\u001b[39m\u001b[39m.\u001b[39mformat(gun))\n\u001b[1;32m----> <a href='vscode-notebook-cell:/c%3A/Users/HyungChul/Desktop/PythonWorkspace/jupyter%20notebook/01.ipynb#X16sZmlsZQ%3D%3D?line=7'>8</a>\u001b[0m checkpoint(\u001b[39m2\u001b[39;49m) \u001b[39m#2명이 경계근무 나감\u001b[39;00m\n\u001b[0;32m      <a href='vscode-notebook-cell:/c%3A/Users/HyungChul/Desktop/PythonWorkspace/jupyter%20notebook/01.ipynb#X16sZmlsZQ%3D%3D?line=8'>9</a>\u001b[0m \u001b[39mprint\u001b[39m(\u001b[39m\"\u001b[39m\u001b[39m남은 총 : \u001b[39m\u001b[39m{0}\u001b[39;00m\u001b[39m\"\u001b[39m\u001b[39m.\u001b[39mformat(gun))\n",
      "\u001b[1;32mc:\\Users\\HyungChul\\Desktop\\PythonWorkspace\\jupyter notebook\\01.ipynb 셀 14\u001b[0m line \u001b[0;36m4\n\u001b[0;32m      <a href='vscode-notebook-cell:/c%3A/Users/HyungChul/Desktop/PythonWorkspace/jupyter%20notebook/01.ipynb#X16sZmlsZQ%3D%3D?line=2'>3</a>\u001b[0m \u001b[39mdef\u001b[39;00m \u001b[39mcheckpoint\u001b[39m(soldiers): \u001b[39m#경계근무\u001b[39;00m\n\u001b[1;32m----> <a href='vscode-notebook-cell:/c%3A/Users/HyungChul/Desktop/PythonWorkspace/jupyter%20notebook/01.ipynb#X16sZmlsZQ%3D%3D?line=3'>4</a>\u001b[0m     gun \u001b[39m=\u001b[39m gun \u001b[39m-\u001b[39m soldiers\n\u001b[0;32m      <a href='vscode-notebook-cell:/c%3A/Users/HyungChul/Desktop/PythonWorkspace/jupyter%20notebook/01.ipynb#X16sZmlsZQ%3D%3D?line=4'>5</a>\u001b[0m     \u001b[39mprint\u001b[39m(\u001b[39m\"\u001b[39m\u001b[39m[함수 내] 남은 총 : \u001b[39m\u001b[39m{0}\u001b[39;00m\u001b[39m\"\u001b[39m\u001b[39m.\u001b[39mformat(gun))\n",
      "\u001b[1;31mUnboundLocalError\u001b[0m: cannot access local variable 'gun' where it is not associated with a value"
     ]
    }
   ],
   "source": [
    "gun = 10\n",
    "\n",
    "def checkpoint(soldiers): #경계근무\n",
    "    gun = gun - soldiers\n",
    "    print(\"[함수 내] 남은 총 : {0}\".format(gun))\n",
    "\n",
    "print(\"전체 총 : {0}\".format(gun))\n",
    "checkpoint(2) #2명이 경계근무 나감\n",
    "print(\"남은 총 : {0}\".format(gun))"
   ]
  },
  {
   "cell_type": "code",
   "execution_count": 21,
   "metadata": {},
   "outputs": [
    {
     "name": "stdout",
     "output_type": "stream",
     "text": [
      "전체 총 : 10\n",
      "[함수 내] 남은 총 : 18\n",
      "남은 총 : 10\n"
     ]
    }
   ],
   "source": [
    "gun = 10\n",
    "\n",
    "def checkpoint(soldiers): #경계근무\n",
    "    gun = 20\n",
    "    gun = gun - soldiers\n",
    "    print(\"[함수 내] 남은 총 : {0}\".format(gun))\n",
    "\n",
    "print(\"전체 총 : {0}\".format(gun))\n",
    "checkpoint(2) #2명이 경계근무 나감\n",
    "print(\"남은 총 : {0}\".format(gun))"
   ]
  },
  {
   "cell_type": "code",
   "execution_count": 22,
   "metadata": {},
   "outputs": [
    {
     "name": "stdout",
     "output_type": "stream",
     "text": [
      "전체 총 : 10\n",
      "[함수 내] 남은 총 : 8\n",
      "남은 총 : 8\n"
     ]
    }
   ],
   "source": [
    "gun = 10\n",
    "\n",
    "def checkpoint(soldiers): #경계근무\n",
    "    global gun #전역 공간에 있는 gun 사용\n",
    "    gun = gun - soldiers\n",
    "    print(\"[함수 내] 남은 총 : {0}\".format(gun))\n",
    "\n",
    "print(\"전체 총 : {0}\".format(gun))\n",
    "checkpoint(2) #2명이 경계근무 나감\n",
    "print(\"남은 총 : {0}\".format(gun))"
   ]
  },
  {
   "cell_type": "code",
   "execution_count": 23,
   "metadata": {},
   "outputs": [
    {
     "name": "stdout",
     "output_type": "stream",
     "text": [
      "전체 총 : 8\n",
      "[함수 내] 남은 총 : 6\n",
      "남은 총 : 6\n"
     ]
    }
   ],
   "source": [
    "def checkpoint_ret(gun, soldiers):\n",
    "    gun = gun - soldiers\n",
    "    print(\"[함수 내] 남은 총 : {0}\".format(gun))\n",
    "    return gun\n",
    "\n",
    "print(\"전체 총 : {0}\".format(gun))\n",
    "gun = checkpoint_ret(gun, 2)\n",
    "print(\"남은 총 : {0}\".format(gun))"
   ]
  },
  {
   "cell_type": "code",
   "execution_count": 24,
   "metadata": {},
   "outputs": [
    {
     "name": "stdout",
     "output_type": "stream",
     "text": [
      "키 175cm 남자의 표준 체중은 67.38kg 입니다.\n"
     ]
    }
   ],
   "source": [
    "#Quiz\n",
    "def std_weight(height, gender):\n",
    "    if gender == \"남자\":\n",
    "        return height * height * 22\n",
    "    else:\n",
    "        return height * height * 21\n",
    "    \n",
    "height = 175 #cm\n",
    "gender = \"남자\"\n",
    "weight = round(std_weight(height / 100, gender), 2)\n",
    "print(\"키 {0}cm {1}의 표준 체중은 {2}kg 입니다.\".format(height, gender, weight))"
   ]
  },
  {
   "cell_type": "code",
   "execution_count": 26,
   "metadata": {},
   "outputs": [
    {
     "name": "stdout",
     "output_type": "stream",
     "text": [
      "Python,Java\n",
      "무엇이 더 재밌을까요?\n"
     ]
    }
   ],
   "source": [
    "print(\"Python\", \"Java\", sep = \",\")\n",
    "print(\"무엇이 더 재밌을까요?\")"
   ]
  },
  {
   "cell_type": "code",
   "execution_count": 25,
   "metadata": {},
   "outputs": [
    {
     "name": "stdout",
     "output_type": "stream",
     "text": [
      "Python,Java?무엇이 더 재밌을까요?\n"
     ]
    }
   ],
   "source": [
    "print(\"Python\", \"Java\", sep = \",\", end=\"?\")\n",
    "print(\"무엇이 더 재밌을까요?\")"
   ]
  },
  {
   "cell_type": "code",
   "execution_count": 27,
   "metadata": {},
   "outputs": [
    {
     "name": "stdout",
     "output_type": "stream",
     "text": [
      "Python Java\n"
     ]
    },
    {
     "name": "stderr",
     "output_type": "stream",
     "text": [
      "Python Java\n"
     ]
    }
   ],
   "source": [
    "import sys\n",
    "print(\"Python\", \"Java\", file = sys.stdout) #표준출력\n",
    "print(\"Python\", \"Java\", file = sys.stderr) #표준에러"
   ]
  },
  {
   "cell_type": "code",
   "execution_count": 28,
   "metadata": {},
   "outputs": [
    {
     "name": "stdout",
     "output_type": "stream",
     "text": [
      "수학 0\n",
      "영어 50\n",
      "코딩 100\n"
     ]
    }
   ],
   "source": [
    "scores = {\"수학\" : 0, \"영어\" : 50, \"코딩\" : 100}\n",
    "for subject, score in scores.items():\n",
    "    print(subject, score)"
   ]
  },
  {
   "cell_type": "code",
   "execution_count": 31,
   "metadata": {},
   "outputs": [
    {
     "name": "stdout",
     "output_type": "stream",
     "text": [
      "수학      :   0\n",
      "영어      :  50\n",
      "코딩      : 100\n"
     ]
    }
   ],
   "source": [
    "scores = {\"수학\" : 0, \"영어\" : 50, \"코딩\" : 100}\n",
    "for subject, score in scores.items():\n",
    "    print(subject.ljust(8), str(score).rjust(4), sep = \":\")"
   ]
  },
  {
   "cell_type": "code",
   "execution_count": 33,
   "metadata": {},
   "outputs": [
    {
     "name": "stdout",
     "output_type": "stream",
     "text": [
      "대기번호 : 001\n",
      "대기번호 : 002\n",
      "대기번호 : 003\n",
      "대기번호 : 004\n",
      "대기번호 : 005\n",
      "대기번호 : 006\n",
      "대기번호 : 007\n",
      "대기번호 : 008\n",
      "대기번호 : 009\n",
      "대기번호 : 010\n",
      "대기번호 : 011\n",
      "대기번호 : 012\n",
      "대기번호 : 013\n",
      "대기번호 : 014\n",
      "대기번호 : 015\n",
      "대기번호 : 016\n",
      "대기번호 : 017\n",
      "대기번호 : 018\n",
      "대기번호 : 019\n",
      "대기번호 : 020\n"
     ]
    }
   ],
   "source": [
    "#은행 대기순번표\n",
    "#001, 002, 003, ...\n",
    "for num in range(1, 21):\n",
    "    print(\"대기번호 : \" + str(num).zfill(3))"
   ]
  },
  {
   "cell_type": "code",
   "execution_count": 35,
   "metadata": {},
   "outputs": [
    {
     "name": "stdout",
     "output_type": "stream",
     "text": [
      "입력하신 값은 나도코딩입니다.\n"
     ]
    }
   ],
   "source": [
    "answer = input(\"아무 값이나 입력하세요 : \")\n",
    "print(\"입력하신 값은 \" + answer + \"입니다.\")"
   ]
  },
  {
   "cell_type": "code",
   "execution_count": 36,
   "metadata": {},
   "outputs": [],
   "source": [
    "score_file = open(\"score.txt\", 'w', encoding = \"utf8\")\n",
    "print(\"수학 : 0\", file=score_file)\n",
    "print(\"영어 : 50\", file=score_file)\n",
    "score_file.close()"
   ]
  },
  {
   "cell_type": "code",
   "execution_count": 37,
   "metadata": {},
   "outputs": [],
   "source": [
    "score_file = open(\"score.txt\", 'a', encoding = \"utf8\")\n",
    "score_file.write(\"과학 : 80\")\n",
    "score_file.write(\"\\n코딩 : 100\")\n",
    "score_file.close()"
   ]
  },
  {
   "cell_type": "code",
   "execution_count": 38,
   "metadata": {},
   "outputs": [
    {
     "name": "stdout",
     "output_type": "stream",
     "text": [
      "수학 : 0\n",
      "영어 : 50\n",
      "과학 : 80\n",
      "코딩 : 100\n"
     ]
    }
   ],
   "source": [
    "score_file = open(\"score.txt\", 'r', encoding = \"utf8\")\n",
    "print(score_file.read())\n",
    "score_file.close()"
   ]
  },
  {
   "cell_type": "code",
   "execution_count": 41,
   "metadata": {},
   "outputs": [
    {
     "name": "stdout",
     "output_type": "stream",
     "text": [
      "수학 : 0\n",
      "\n",
      "영어 : 50\n",
      "\n",
      "과학 : 80\n",
      "\n",
      "코딩 : 100\n"
     ]
    }
   ],
   "source": [
    "score_file = open(\"score.txt\", 'r', encoding = \"utf8\")\n",
    "print(score_file.readline()) #줄별로 읽기, 한 줄 읽고 커서는 다음 줄로 이동\n",
    "print(score_file.readline())\n",
    "print(score_file.readline())\n",
    "print(score_file.readline())\n",
    "score_file.close()"
   ]
  },
  {
   "cell_type": "code",
   "execution_count": 43,
   "metadata": {},
   "outputs": [
    {
     "name": "stdout",
     "output_type": "stream",
     "text": [
      "수학 : 0\n",
      "영어 : 50\n",
      "과학 : 80\n",
      "코딩 : 100"
     ]
    }
   ],
   "source": [
    "score_file = open(\"score.txt\", 'r', encoding = \"utf8\")\n",
    "print(score_file.readline(), end=\"\")\n",
    "print(score_file.readline(), end=\"\")\n",
    "print(score_file.readline(), end=\"\")\n",
    "print(score_file.readline(), end=\"\")\n",
    "score_file.close()"
   ]
  },
  {
   "cell_type": "code",
   "execution_count": 44,
   "metadata": {},
   "outputs": [
    {
     "name": "stdout",
     "output_type": "stream",
     "text": [
      "수학 : 0\n",
      "\n",
      "영어 : 50\n",
      "\n",
      "과학 : 80\n",
      "\n",
      "코딩 : 100\n"
     ]
    }
   ],
   "source": [
    "score_file = open(\"score.txt\", 'r', encoding = \"utf8\")\n",
    "while True:\n",
    "    line = score_file.readline()\n",
    "    if not line:\n",
    "        break\n",
    "    print(line)\n",
    "score_file.close()"
   ]
  },
  {
   "cell_type": "code",
   "execution_count": 45,
   "metadata": {},
   "outputs": [
    {
     "name": "stdout",
     "output_type": "stream",
     "text": [
      "수학 : 0\n",
      "영어 : 50\n",
      "과학 : 80\n",
      "코딩 : 100"
     ]
    }
   ],
   "source": [
    "score_file = open(\"score.txt\", 'r', encoding = \"utf8\")\n",
    "lines = score_file.readlines() #list 형태로 저장\n",
    "for line in lines:\n",
    "    print(line, end=\"\")\n",
    "\n",
    "score_file.close()"
   ]
  },
  {
   "cell_type": "code",
   "execution_count": 49,
   "metadata": {},
   "outputs": [
    {
     "name": "stdout",
     "output_type": "stream",
     "text": [
      "{'이름': '박명수', '나이': 30, '취미': ['축구', '골프', '코딩']}\n"
     ]
    }
   ],
   "source": [
    "#pickle\n",
    "import pickle\n",
    "profile_file = open(\"profile.pickle\", 'wb')\n",
    "profile = {\"이름\" : \"박명수\", \"나이\" : 30, \"취미\" : [\"축구\", \"골프\", \"코딩\"]}\n",
    "print(profile)\n",
    "profile_file.close()"
   ]
  },
  {
   "cell_type": "code",
   "execution_count": 56,
   "metadata": {},
   "outputs": [
    {
     "name": "stdout",
     "output_type": "stream",
     "text": [
      "{'이름': '박명수', '나이': 30, '취미': ['축구', '골프', '코딩']}\n"
     ]
    }
   ],
   "source": [
    "#pickle\n",
    "import pickle\n",
    "profile_file = open(\"profile.pickle\", 'wb')\n",
    "profile = {\"이름\" : \"박명수\", \"나이\" : 30, \"취미\" : [\"축구\", \"골프\", \"코딩\"]}\n",
    "print(profile)\n",
    "pickle.dump(profile, profile_file) #profile에 있는 정보를 file 에 저장\n",
    "profile_file.close()"
   ]
  },
  {
   "cell_type": "code",
   "execution_count": 57,
   "metadata": {},
   "outputs": [
    {
     "name": "stdout",
     "output_type": "stream",
     "text": [
      "{'이름': '박명수', '나이': 30, '취미': ['축구', '골프', '코딩']}\n"
     ]
    }
   ],
   "source": [
    "import pickle\n",
    "profile_file = open(\"profile.pickle\", \"rb\")\n",
    "profile = pickle.load(profile_file) #file에 있는 정보를 profile에 불러오기\n",
    "print(profile)\n",
    "profile_file.close()"
   ]
  },
  {
   "cell_type": "code",
   "execution_count": 58,
   "metadata": {},
   "outputs": [
    {
     "name": "stdout",
     "output_type": "stream",
     "text": [
      "{'이름': '박명수', '나이': 30, '취미': ['축구', '골프', '코딩']}\n"
     ]
    }
   ],
   "source": [
    "import pickle\n",
    "with open(\"profile.pickle\", \"rb\") as profile_file:\n",
    "    print(pickle.load(profile_file))"
   ]
  },
  {
   "cell_type": "code",
   "execution_count": 59,
   "metadata": {},
   "outputs": [],
   "source": [
    "with open(\"study.txt\", \"w\", encoding = \"utf8\") as study_file:\n",
    "    study_file.write(\"파이썬을 열심히 공부하고 있어요\")"
   ]
  },
  {
   "cell_type": "code",
   "execution_count": 60,
   "metadata": {},
   "outputs": [
    {
     "name": "stdout",
     "output_type": "stream",
     "text": [
      "파이썬을 열심히 공부하고 있어요\n"
     ]
    }
   ],
   "source": [
    "with open(\"study.txt\", \"r\", encoding=\"utf8\") as study_file:\n",
    "    print(study_file.read())\n",
    "#매번 close 해 줄 필요가 없어서 수월함"
   ]
  },
  {
   "cell_type": "code",
   "execution_count": 63,
   "metadata": {},
   "outputs": [],
   "source": [
    "#Quiz\n",
    "for i in range(1, 51):\n",
    "    with open(str(i) + \"주차.txt\", \"w\", encoding=\"utf8\") as report_file:\n",
    "        report_file.write(\"- {0} 주차 주간보고 -\".format(i))\n",
    "        report_file.write(\"\\n부서 :\")\n",
    "        report_file.write(\"\\n이름 :\")\n",
    "        report_file.write(\"\\n업무 요약 :\")"
   ]
  },
  {
   "cell_type": "code",
   "execution_count": null,
   "metadata": {},
   "outputs": [],
   "source": []
  }
 ],
 "metadata": {
  "kernelspec": {
   "display_name": "Python 3",
   "language": "python",
   "name": "python3"
  },
  "language_info": {
   "codemirror_mode": {
    "name": "ipython",
    "version": 3
   },
   "file_extension": ".py",
   "mimetype": "text/x-python",
   "name": "python",
   "nbconvert_exporter": "python",
   "pygments_lexer": "ipython3",
   "version": "3.11.2"
  },
  "orig_nbformat": 4
 },
 "nbformat": 4,
 "nbformat_minor": 2
}
